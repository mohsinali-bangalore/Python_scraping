{
 "cells": [
  {
   "cell_type": "code",
   "execution_count": 64,
   "id": "08f68fb5",
   "metadata": {},
   "outputs": [
    {
     "name": "stdout",
     "output_type": "stream",
     "text": [
      "['Re-Refined Base Oil Market - Global Outlook & Forecast 2022-2027', '\\nProduct code1069856\\n', 'Product code1069856', 'PublishedApril 14, 2022', 'Content info294 Pages', 'USD 3750']\n",
      "['Poly Alpha Olefin (PAO) Market - Global Outlook & Forecast 2022-2027', '\\nProduct code1069854\\n', 'Product code1069854', 'PublishedApril 14, 2022', 'Content info222 Pages', 'USD 3750']\n",
      "['Medical Device Packaging Market - Global Outlook & Forecast 2022-2027', '\\nProduct code1069849\\n', 'Product code1069849', 'PublishedApril 14, 2022', 'Content info299 Pages', 'USD 3750']\n",
      "['Group II & III Base Oil Market - Global Outlook & Forecast 2022-2027', '\\nProduct code1069847\\n', 'Product code1069847', 'PublishedApril 14, 2022', 'Content info259 Pages', 'USD 3750']\n",
      "['Garden Pesticides Market - Global Outlook & Forecast 2022-2027', '\\nProduct code1069845\\n', 'Product code1069845', 'PublishedApril 14, 2022', 'Content info287 Pages', 'USD 3500']\n",
      "['Data Center Fire Detection and Suppression Market - Global Outlook & Forecast 2022-2027', '\\nProduct code1069840\\n', 'Product code1069840', 'PublishedApril 14, 2022', 'Content info379 Pages', 'USD 3750']\n",
      "['Base Oil Market - Global Outlook & Forecast 2022-2027', '\\nProduct code1069836\\n', 'Product code1069836', 'PublishedApril 14, 2022', 'Content info268 Pages', 'USD 3750']\n",
      "['Vietnam Short Fiber Thermoplastic (SFT) Market Research Report 2022', '\\nProduct code1069722\\n', 'Product code1069722', 'PublishedApril 14, 2022', 'Content info80 Pages', 'USD 3400']\n",
      "['Global Zinc Aluminum Magnesium Coated Steel Market Research Report 2022', '\\nProduct code1069718\\n', 'Product code1069718', 'PublishedApril 14, 2022', 'Content info141 Pages', 'USD 2900']\n",
      "['Global Polybutene-1(Resin) Market Research Report 2022', '\\nProduct code1069714\\n', 'Product code1069714', 'PublishedApril 14, 2022', 'Content info107 Pages', 'USD 2900']\n",
      "['Global Paint Grade Zinc Dust Market Report, History and Forecast 2017-2029', '\\nProduct code1069713\\n', 'Product code1069713', 'PublishedApril 14, 2022', 'Content info136 Pages', 'USD 3350']\n",
      "['Global Organoclay Market Report, History and Forecast 2017-2028', '\\nProduct code1069711\\n', 'Product code1069711', 'PublishedApril 14, 2022', 'Content info149 Pages', 'USD 3350']\n",
      "['Global CPP Packaging Films Market Report, History and Forecast 2017-2028', '\\nProduct code1069701\\n', 'Product code1069701', 'PublishedApril 14, 2022', 'Content info133 Pages', 'USD 3350']\n",
      "['Africa and GCC Cocamidopropyl Betaine (CAPB) Market Report & Forecast 2022-2028', '\\nProduct code1069695\\n', 'Product code1069695', 'PublishedApril 14, 2022', 'Content info109 Pages', 'USD 3900']\n",
      "['Global High Purity Electronic Grade Phosphoric Acid Market Research Report 2022', '\\nProduct code1068652\\n', 'Product code1068652', 'PublishedApril 14, 2022', 'Content info127 Pages', 'USD 2900']\n",
      "['Pine-Derived Chemicals Market by Type (TOFA, TOR, Gum Turpentine, Gum Rosin, Pitch, and Sterols), Application (Paints & Coatings, Adhesives & Sealants, Surfactants, and Printing Inks), Source, Process and Region - Global Forecast to 2027', '\\nProduct code1069885\\n', 'Product code1069885', 'PublishedApril 12, 2022', 'Content info256 Pages', 'USD 4950']\n",
      "['Synthetic Paper Market by Raw Material (BOPP, HDPE, PET, and PVC), Application (Printing, Labels & Tags, Packaging), End-use Industry (Industrial, Institutional, and Commercial/Retail) and Geography - Global Forecast to 2027', '\\nProduct code1069884\\n', 'Product code1069884', 'PublishedApril 12, 2022', 'Content info193 Pages', 'USD 4950']\n",
      "['Surface Disinfectant Market by Composition, Formulation, Application, End User - Global Forecast to 2029', '\\nProduct code1069367\\n', 'Product code1069367', 'PublishedApril 12, 2022', 'Content info245 Pages', 'USD 4175']\n",
      "['Electrocoating Market by Type (Cathodic Epoxy, Cathodic Acrylic, Anodic), Application (Passenger Cars, Commercial Vehicles, Automotive Parts & Accessories, Heavy-Duty Equipment, Appliances) and Region - Global Forecast to 2026', '\\nProduct code1069883\\n', 'Product code1069883', 'PublishedApril 11, 2022', 'Content info239 Pages', 'USD 4950']\n",
      "['Global Stationary Emission Control Catalyst Market 2022-2026', '\\nProduct code1069818\\n', 'Product code1069818', 'PublishedApril 11, 2022', 'Content info120 Pages', 'USD 2500']\n",
      "['Global Industrial and Institutional Cleaners Market 2022-2026', '\\nProduct code1069814\\n', 'Product code1069814', 'PublishedApril 11, 2022', 'Content info120 Pages', 'USD 2500']\n",
      "['Global Polyurethane Composites Market 2022-2026', '\\nProduct code1069809\\n', 'Product code1069809', 'PublishedApril 11, 2022', 'Content info120 Pages', 'USD 2500']\n",
      "['Global Ambient Food Packaging Market 2022-2026', '\\nProduct code1069805\\n', 'Product code1069805', 'PublishedApril 11, 2022', 'Content info120 Pages', 'USD 2500']\n",
      "['Global Roofing Chemicals Market 2022-2026', '\\nProduct code1069803\\n', 'Product code1069803', 'PublishedApril 11, 2022', 'Content info120 Pages', 'USD 2500']\n",
      "['Global Benzene Market (Capacity, Supply & Demand): Insights & Forecast with Potential Impact of COVID-19 (2022-2026)', '\\nProduct code1069189\\n', 'Product code1069189', 'PublishedApril 11, 2022', 'Content info81 Pages', 'USD 1250']\n"
     ]
    }
   ],
   "source": [
    "from bs4 import BeautifulSoup\n",
    "import requests\n",
    "from csv import writer\n",
    "\n",
    "url = \"https://www.giiresearch.com/material_report.shtml\"\n",
    "page = requests.get(url)\n",
    "#print(page)\n",
    "\n",
    "soup = BeautifulSoup(page.content, 'html.parser')\n",
    "lists = soup.find_all('table', class_=\"plist_item\")\n",
    "#print(lists)\n",
    "\n",
    "with open(\"Advanced Material Market Research Reports.csv\", 'w', encoding='utf8', newline='') as f:\n",
    "    thewriter = writer(f)\n",
    "    header = ['Title','Published by','Product code','Published date','Content','Price']\n",
    "    thewriter.writerow(header)\n",
    "    \n",
    "    for lst in lists:\n",
    "        title = lst.find('div', class_=\"list_title\").text.replace(\"<a\", '')\n",
    "        publish = lst.find('div', class_=\"plist_codeinfo\").text.replace('<div',\"\")\n",
    "        code = lst.find('div', class_=\"plist_codeinfo\").text.replace(\"<div\", \" \").replace(\"\\n\",'')\n",
    "        publish_date = lst.find('div', class_=\"plist_dateinfo\").text.replace(\"<div\", ' ').replace(\"\\n\", '')\n",
    "        content = lst.find('div', class_=\"plist_pageinfo\").text.replace(\"<div\", ' ').replace('\\n','')\n",
    "        price = lst.find('span', class_=\"price_usd\").text.replace('<div','').replace('\\n','')\n",
    "\n",
    "        info = [title, publish,code, publish_date, content, price]\n",
    "        thewriter.writerow(info)"
   ]
  },
  {
   "cell_type": "code",
   "execution_count": null,
   "id": "381bb62b",
   "metadata": {},
   "outputs": [],
   "source": []
  }
 ],
 "metadata": {
  "kernelspec": {
   "display_name": "Python 3",
   "language": "python",
   "name": "python3"
  },
  "language_info": {
   "codemirror_mode": {
    "name": "ipython",
    "version": 3
   },
   "file_extension": ".py",
   "mimetype": "text/x-python",
   "name": "python",
   "nbconvert_exporter": "python",
   "pygments_lexer": "ipython3",
   "version": "3.8.8"
  }
 },
 "nbformat": 4,
 "nbformat_minor": 5
}
