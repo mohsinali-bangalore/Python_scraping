{
 "cells": [
  {
   "cell_type": "code",
   "execution_count": 26,
   "id": "381bb62b",
   "metadata": {},
   "outputs": [],
   "source": [
    "from bs4 import BeautifulSoup\n",
    "import requests\n",
    "from csv import writer\n",
    "\n",
    "url = \"https://www.giiresearch.com/material_report.shtml\"\n",
    "page = requests.get(url)\n",
    "\n",
    "soup = BeautifulSoup(page.content, 'html.parser')\n",
    "lists = soup.find_all('table', class_=\"plist_item\")\n",
    "\n",
    "with open(\"Advanced Material Market Research Reports.csv\", 'w', encoding='utf8', newline='') as f:\n",
    "    thewriter = writer(f)\n",
    "    header = ['Title','Published by','Product code','Published date','Content','Price']\n",
    "    thewriter.writerow(header)\n",
    "    \n",
    "    for lst in lists:\n",
    "        title = lst.find('div', class_=\"list_title\").text.replace(\"<a\", '')\n",
    "        publish = lst.find('div', class_=\"plist_pubinfo\").text.replace('<div',\"\").replace('\\n','') [12:]\n",
    "        code = lst.find('div', class_=\"plist_codeinfo\").text.replace(\"<div\", \" \").replace(\"\\n\",'') [12:]\n",
    "        publish_date = lst.find('div', class_=\"plist_dateinfo\").text.replace(\"<div\", ' ').replace(\"\\n\", '') [9:]\n",
    "        content = lst.find('div', class_=\"plist_pageinfo\").text.replace(\"<div\", ' ').replace('\\n','') [12:]\n",
    "        price = lst.find('span', class_=\"price_usd\").text.replace('<div','').replace('\\n','')\n",
    "\n",
    "        info = [title, publish, code, publish_date, content, price]\n",
    "        thewriter.writerow(info)"
   ]
  }
 ],
 "metadata": {
  "kernelspec": {
   "display_name": "Python 3",
   "language": "python",
   "name": "python3"
  },
  "language_info": {
   "codemirror_mode": {
    "name": "ipython",
    "version": 3
   },
   "file_extension": ".py",
   "mimetype": "text/x-python",
   "name": "python",
   "nbconvert_exporter": "python",
   "pygments_lexer": "ipython3",
   "version": "3.8.8"
  }
 },
 "nbformat": 4,
 "nbformat_minor": 5
}
